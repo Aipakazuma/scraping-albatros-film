{
 "cells": [
  {
   "cell_type": "code",
   "execution_count": 52,
   "metadata": {},
   "outputs": [],
   "source": [
    "from bs4 import BeautifulSoup\n",
    "from urllib.request import urlopen\n",
    "from urllib.error import URLError\n",
    "from urllib.error import HTTPError\n",
    "import time\n",
    "import re"
   ]
  },
  {
   "cell_type": "code",
   "execution_count": 82,
   "metadata": {},
   "outputs": [],
   "source": [
    "def getWebResource(url):\n",
    "    try:\n",
    "        return urlopen(url)\n",
    "    except HTTPError as e:\n",
    "        print(e)\n",
    "        return None\n",
    "    except URLError as e:\n",
    "        print('The server could not be found!')\n",
    "        return None\n",
    "\n",
    "movieList = []\n",
    "def getMovieTitleAndImg(tagMovieLi):\n",
    "    for movieDetail in tagMovieLi:\n",
    "        \n",
    "        try:\n",
    "            # titleを取得\n",
    "            unnormalizeTitle = str(movieDetail.getText()).strip()\n",
    "            replaceTitlte = re.sub('(【.+|\\\\n).+', '', unnormalizeTitle)\n",
    "            title = replaceTitlte.strip()\n",
    "\n",
    "            # imgを取得\n",
    "            img = movieDetail.find('div', {'class': 'pict'}).a.img\n",
    "            imgSrc = img['src']\n",
    "            bigImgUrl = re.sub('\\.jpg$', '1.jpg', imgSrc)\n",
    "            movieList.append({\n",
    "                'title': title,\n",
    "                'url': bigImgUrl\n",
    "            })\n",
    "        except AttributeError as e:\n",
    "            print(e)\n",
    "    return movieList"
   ]
  },
  {
   "cell_type": "code",
   "execution_count": 83,
   "metadata": {},
   "outputs": [
    {
     "name": "stdout",
     "output_type": "stream",
     "text": [
      "[{'title': 'ヘビー・ウォーター・ウォー DVD-BOX', 'url': 'http://www.albatros-film.com/wp-content/uploads/2016/03/THWW_logo1.jpg'}, {'title': 'ロスト・パトロール', 'url': 'http://www.albatros-film.com/wp-content/uploads/2016/03/lostpatrol_dvd_jk1.jpg'}, {'title': 'スティンガー', 'url': 'http://www.albatros-film.com/wp-content/uploads/2016/03/stinger_fire_JK1.jpg'}, {'title': 'ゴーストハンターズ\\u3000オバケのヒューゴと氷の魔人', 'url': 'http://www.albatros-film.com/wp-content/uploads/2016/03/90827d49d5ae79728cfd95605dbe80ad1.jpg'}, {'title': 'インタープラネット', 'url': 'http://www.albatros-film.com/wp-content/uploads/2016/03/7b2cf949d0e3c683c57f7b2b75aad9e51.jpg'}, {'title': '赤ずきんvs狼男', 'url': 'http://www.albatros-film.com/wp-content/uploads/2016/03/d33bf407ef86318106f6e0ed32f7df801.jpg'}, {'title': 'ラブ・リベンジ', 'url': 'http://www.albatros-film.com/wp-content/uploads/2016/03/loverevenge_jk1.jpg'}, {'title': '韓国に嫁いだ女', 'url': 'http://www.albatros-film.com/wp-content/uploads/2016/03/kankoku_DVD1.jpg'}, {'title': '39days', 'url': 'http://www.albatros-film.com/wp-content/uploads/2016/03/39days-jk1.jpg'}, {'title': 'モテ福4（2枚組）', 'url': 'http://www.albatros-film.com/wp-content/uploads/2016/03/fba3cbcb9f24237df127de8f4fafc9bd1.jpg'}, {'title': 'エール！', 'url': 'http://www.albatros-film.com/wp-content/uploads/2016/04/18dc0d9a42c1e4b14e27f013199706f0.png'}, {'title': 'エール！', 'url': 'http://www.albatros-film.com/wp-content/uploads/2016/02/e998a1b8b1b1545acc6b47efee8f08001.jpg'}, {'title': 'ラバランチュラ\\u3000全員出動！', 'url': 'http://www.albatros-film.com/wp-content/uploads/2016/02/59765ce25c77621e1bd84826cc051ade1.jpg'}, {'title': 'コインロッカーの女', 'url': 'http://www.albatros-film.com/wp-content/uploads/2016/02/039b5ee96cf7b751effd537a55c0f7581.jpg'}, {'title': 'スノークイーン\\u3000少女ゲルダと雪の女王', 'url': 'http://www.albatros-film.com/wp-content/uploads/2016/02/fe90c15f87d7cbd683a7381ee775fc8d1.jpg'}, {'title': 'マッド・スピード2', 'url': 'http://www.albatros-film.com/wp-content/uploads/2016/02/8a01bd66da3d4d68c763049f2fc37bc41.jpg'}, {'title': 'シャーク・プリズン\\u3000鮫地獄女囚大脱獄', 'url': 'http://www.albatros-film.com/wp-content/uploads/2016/02/b2e38cc58832606e81ed87ffa70ed6f71.jpg'}, {'title': '38days', 'url': 'http://www.albatros-film.com/wp-content/uploads/2016/02/38days-jk1.jpg'}, {'title': 'メイドロイド 日本製人造家政婦', 'url': 'http://www.albatros-film.com/wp-content/uploads/2016/02/d79d9002601eba148a7e9b916200e1201.jpg'}, {'title': 'ぼくらの家路', 'url': 'http://www.albatros-film.com/wp-content/uploads/2016/01/b1e7bf97828dd672150bb01c98ccca301.jpg'}, {'title': 'アイ・スピット・オン・ユア・グレイヴ3', 'url': 'http://www.albatros-film.com/wp-content/uploads/2016/01/ispit3_jk1.jpg'}, {'title': 'スウィート・ホーム', 'url': 'http://www.albatros-film.com/wp-content/uploads/2016/01/8a68ab2c5da77350b04a25847f390d861.jpg'}, {'title': 'ファイアー・クエイク\\u3000火炎大地震', 'url': 'http://www.albatros-film.com/wp-content/uploads/2016/01/bd5c9d7d6f5eaea77cebaf271700d4e71.jpg'}, {'title': 'ゲームメイカー 消えたジグソーパズルと巨大迷路の秘密', 'url': 'http://www.albatros-film.com/wp-content/uploads/2016/01/146ab9743703aac0c32d00c9d1d7b6f81.jpg'}, {'title': 'アマゾン・クルーズ', 'url': 'http://www.albatros-film.com/wp-content/uploads/2016/01/d651a5660bc54ebc9dc71855b562d3581.jpg'}, {'title': '天王寺おばあちゃんゾウ 春子\\u3000最後の夏', 'url': 'http://www.albatros-film.com/wp-content/uploads/2016/01/c2f455006120d7502e1dfe9549a68ade1.jpg'}, {'title': 'マッドムービー 遊園地残酷迷宮', 'url': 'http://www.albatros-film.com/wp-content/uploads/2016/01/35e0ffc61a1674d6245dc8c70ea310ff1.jpg'}, {'title': 'ビッグ・ベア 救え！小さな仲間たちと不思議の森', 'url': 'http://www.albatros-film.com/wp-content/uploads/2016/01/9589b1887d27082545b720205da12de41.jpg'}, {'title': 'あの日のように抱きしめて', 'url': 'http://www.albatros-film.com/wp-content/uploads/2015/12/f1c28bbc7daf479e840c7112ea6717ed1.jpg'}, {'title': '悪魔は闇に蠢（うごめ）く', 'url': 'http://www.albatros-film.com/wp-content/uploads/2015/12/e23b14725042080897058119fe21870a1.jpg'}, {'title': '400デイズ', 'url': 'http://www.albatros-film.com/wp-content/uploads/2015/12/400days_JK_10301.jpg'}, {'title': 'マーズ・オデッセイ', 'url': 'http://www.albatros-film.com/wp-content/uploads/2015/12/1634328ef36fe3ea34e2573575a237721.jpg'}, {'title': 'ミクロ・アドベンチャー', 'url': 'http://www.albatros-film.com/wp-content/uploads/2015/12/c06ffef02191b588b28029f1241331391.jpg'}, {'title': '堕落の王国', 'url': 'http://www.albatros-film.com/wp-content/uploads/2015/12/a4f74dcdc17718d5174bae533c6923541.jpg'}, {'title': '恋愛死体（ラブ ゾンビ）ROMANCE OF THE DEAD', 'url': 'http://www.albatros-film.com/wp-content/uploads/2015/12/a3baa7462876f4fb2a3900be6766cbab1.jpg'}, {'title': '恐怖都市伝説ファイル ひきこさんの呪い', 'url': 'http://www.albatros-film.com/wp-content/uploads/2015/12/9d92d0529cee93dea75b19b46aba890c1.jpg'}, {'title': 'ターナー、光に愛を求めて', 'url': 'http://www.albatros-film.com/wp-content/uploads/2015/11/cb605b2b2eb8c14560e78cdfa5a7787e1.jpg'}, {'title': 'ソルジャーズ\\u3000連合軍を救った男たち', 'url': 'http://www.albatros-film.com/wp-content/uploads/2015/11/575a12fb3e86aed606140e0b84cd8b591.jpg'}, {'title': 'ザ・ファントム', 'url': 'http://www.albatros-film.com/wp-content/uploads/2015/11/231574ea6f573e5ac2192aa9d0e8f9d41.jpg'}, {'title': '暴走車 ランナウェイ・カー', 'url': 'http://www.albatros-film.com/wp-content/uploads/2015/11/8ee2d03ff0c886cc60c7e0103b1d6ee11.jpg'}, {'title': 'ワールド・オブZ', 'url': 'http://www.albatros-film.com/wp-content/uploads/2015/11/d62f03c5b70eb79a009d146eeaf2a22c1.jpg'}, {'title': 'レイプ・オブ・アナ・フリッツ', 'url': 'http://www.albatros-film.com/wp-content/uploads/2015/11/19beb05adaa74256207b09e0182654861.jpg'}, {'title': '義理の娘が眩しすぎて。', 'url': 'http://www.albatros-film.com/wp-content/uploads/2015/11/4c8227ef3c5026f0878408349e9657631.jpg'}, {'title': '東京地下女子刑務所 CHAPTER2・エリア99', 'url': 'http://www.albatros-film.com/wp-content/uploads/2015/11/84bbf31639028d66d84e663b2ad334bf1.jpg'}, {'title': 'ケロリンピック カエル王国危機一髪!', 'url': 'http://www.albatros-film.com/wp-content/uploads/2015/11/67ddc1f9f026b32db9df733f3bbb97171.jpg'}, {'title': 'ディオールと私', 'url': 'http://www.albatros-film.com/wp-content/uploads/2015/12/f0dc3b4cb6e9e4e73a3bc916fd138a9411.jpg'}, {'title': 'ディオールと私', 'url': 'http://www.albatros-film.com/wp-content/uploads/2015/10/0ea3c650f800f1f340f03a2eecd9f1051.jpg'}, {'title': 'ロシアン・スナイパー', 'url': 'http://www.albatros-film.com/wp-content/uploads/2015/10/78bfd01d4df583f4d58b47985d3a714a1.jpg'}, {'title': 'トリプルヘッド・ジョーズ', 'url': 'http://www.albatros-film.com/wp-content/uploads/2015/10/ee85a288ad39b7756c278417af5b25701.jpg'}, {'title': 'タイガー・ハウス', 'url': 'http://www.albatros-film.com/wp-content/uploads/2015/10/800aeabcc816ef3917461bf5ccc385c61.jpg'}, {'title': 'マーラとバイキングの神々', 'url': 'http://www.albatros-film.com/wp-content/uploads/2015/10/edb64060af0299dee4454fb43b9a71131.jpg'}, {'title': '悪魔はそこにいる', 'url': 'http://www.albatros-film.com/wp-content/uploads/2015/10/9fe2240877483675232e771a46b5d8b71.jpg'}, {'title': '妹がぼくを支配する。', 'url': 'http://www.albatros-film.com/wp-content/uploads/2015/10/e655b9f3c289aca4f2550683cccd1c071.jpg'}, {'title': '東京地下女子刑務所 CHAPTER1・エリア88', 'url': 'http://www.albatros-film.com/wp-content/uploads/2015/10/7997ef6d20c473918604f81ff12100ea1.jpg'}, {'title': 'アドバンスト・スタイル そのファッションが、人生', 'url': 'http://www.albatros-film.com/wp-content/uploads/2015/09/1695c5e4cb60dca5f3c706190a762bb31.jpg'}, {'title': 'あいつの声', 'url': 'http://www.albatros-film.com/wp-content/uploads/2015/09/ed6374a661c1756b6c03fafec022ce061.jpg'}, {'title': 'エクストラ テレストリアル', 'url': 'http://www.albatros-film.com/wp-content/uploads/2015/09/ET_BD_sell_Jacket1.jpg'}, {'title': 'エクストラ テレストリアル', 'url': 'http://www.albatros-film.com/wp-content/uploads/2015/09/ET_dvd_jk1.jpg'}, {'title': 'スティーヴン・キング ビッグ・ドライバー', 'url': 'http://www.albatros-film.com/wp-content/uploads/2015/09/89bd0a144b8f59afb8d9cc7c742f76cc1.jpg'}, {'title': 'シャークネード\\u3000エクストリーム・ミッション', 'url': 'http://www.albatros-film.com/wp-content/uploads/2015/09/sharknado3_jk1.jpg'}, {'title': 'アースフォール', 'url': 'http://www.albatros-film.com/wp-content/uploads/2015/09/08a36c0872d189565bba105984975dfd1.jpg'}, {'title': 'ホーム・インベージョン', 'url': 'http://www.albatros-film.com/wp-content/uploads/2015/09/dd7a366565eb88ab94b58102cd933c991.jpg'}, {'title': '聖獣警察2 警視庁性犯罪特捜10課', 'url': 'http://www.albatros-film.com/wp-content/uploads/2015/09/2157f2e446480f3c80c38796adce4e1d1.jpg'}, {'title': 'アルプス\\u3000天空の交響曲（シンフォニー）', 'url': 'http://www.albatros-film.com/wp-content/uploads/2015/10/e47cd954f7b8372d394d100025f7627e11.jpg'}, {'title': 'アルプス\\u3000天空の交響曲（シンフォニー）', 'url': 'http://www.albatros-film.com/wp-content/uploads/2015/08/73e5693315a80bcb58f93df29f14bd4c1.jpg'}, {'title': 'オン・ザ・ハイウェイ\\u3000その夜、86分', 'url': 'http://www.albatros-film.com/wp-content/uploads/2015/08/9f9b5d5dffd74a9709a0e10a4232d0001.jpg'}, {'title': 'ネスト', 'url': 'http://www.albatros-film.com/wp-content/uploads/2015/08/e1f65f3f094ad2a5a3bc61b48f75da941.jpg'}, {'title': 'リベリオン ワルシャワ大攻防戦', 'url': 'http://www.albatros-film.com/wp-content/uploads/2015/08/d3064039d7222f0216259f8e5153a0e01.jpg'}, {'title': 'クリスマスを取り戻せ！ ～リトル・ドラゴンとサンタの魔法の石～', 'url': 'http://www.albatros-film.com/wp-content/uploads/2015/08/1806cc487fa356cefaa7d96b94122a801.jpg'}, {'title': 'Q-ZONE：隔離地区', 'url': 'http://www.albatros-film.com/wp-content/uploads/2015/10/a11940ba0cbe3cd0665cad28f615b0aa1.jpg'}, {'title': '葬儀人 アンダーテイカー', 'url': 'http://www.albatros-film.com/wp-content/uploads/2015/08/8805d7236cc6e9e61a6bd6ec8a30f1881.jpg'}, {'title': '聖獣警察 警視庁性犯罪特捜10課', 'url': 'http://www.albatros-film.com/wp-content/uploads/2015/08/f4441534a7c837b96eb1fce8c1b0f7631.jpg'}, {'title': 'スティーヴン・キング ファミリー・シークレット', 'url': 'http://www.albatros-film.com/wp-content/uploads/2015/07/61ccb06b30a37d66ba49fc438c3563541.jpg'}, {'title': '鰻（うなぎ）の男', 'url': 'http://www.albatros-film.com/wp-content/uploads/2015/07/2969597e23c0a83e0b550ce27a54d9111.jpg'}, {'title': 'カリフォルニア･ディストラクション', 'url': 'http://www.albatros-film.com/wp-content/uploads/2015/07/3d4078562e7c89bd785ad5ec5ab2172e1.jpg'}, {'title': 'エアポート2015', 'url': 'http://www.albatros-film.com/wp-content/uploads/2015/07/airport2015_JK1.jpg'}, {'title': '宇宙戦争 バトル・オブ・ダークサイド・ムーン', 'url': 'http://www.albatros-film.com/wp-content/uploads/2015/07/e7340be398d88983718dc1ae4af6a6381.jpg'}, {'title': '蜜の宮殿', 'url': 'http://www.albatros-film.com/wp-content/uploads/2015/07/42783605786762323c7df22582b979111.jpg'}, {'title': '野球拳キャノンボール', 'url': 'http://www.albatros-film.com/wp-content/uploads/2015/07/4de88f73ee7266cdcabe57974da727521.jpg'}, {'title': 'TOKYO KILLERS ～蟻が空を飛ぶ日〔完全版〕～', 'url': 'http://www.albatros-film.com/wp-content/uploads/2015/07/TOKYO-KILLERS-jk1.jpg'}, {'title': 'ナショナル・ギャラリー 英国の至宝', 'url': 'http://www.albatros-film.com/wp-content/uploads/2015/08/1df709c0e45d8acc089b3511107ccf3211.jpg'}, {'title': 'ナショナル・ギャラリー 英国の至宝', 'url': 'http://www.albatros-film.com/wp-content/uploads/2015/06/c59e27eed4f2467291b73d79c500b5871.jpg'}, {'title': 'ルーズヴェルト・ソルジャー', 'url': 'http://www.albatros-film.com/wp-content/uploads/2015/06/9e779b591f3b5881d77ae6b45e79e7761.jpg'}, {'title': '殺し屋チャーリーと6人の悪党', 'url': 'http://www.albatros-film.com/wp-content/uploads/2015/06/6b7d9636f9c385e1340a2ad666fb5aae1.jpg'}, {'title': 'マッド・スピード', 'url': 'http://www.albatros-film.com/wp-content/uploads/2015/06/91563b58fe51a3241e25442d4ec294631.jpg'}, {'title': 'ジュラシック・プロジェクト', 'url': 'http://www.albatros-film.com/wp-content/uploads/2015/06/5d26d44ac2210bc4a7288dc96290fdb51.jpg'}, {'title': 'ファイアー・ツイスター', 'url': 'http://www.albatros-film.com/wp-content/uploads/2015/06/5826f1334dab9c3c3a95330e2565243b1.jpg'}, {'title': '78days', 'url': 'http://www.albatros-film.com/wp-content/uploads/2015/06/78days-jk1.jpg'}, {'title': 'イタズラなお遊戯', 'url': 'http://www.albatros-film.com/wp-content/uploads/2015/06/4688c9efb463f54201e3c4d1133c79211.jpg'}, {'title': 'モテ福3（2枚組）', 'url': 'http://www.albatros-film.com/wp-content/uploads/2015/06/7d8d791c923aea5375e12df38a560d3d1.jpg'}, {'title': '戦慄怪奇ファイル\\u3000超コワすぎ！ FILE-02 暗黒奇譚！蛇女の怪', 'url': 'http://www.albatros-film.com/wp-content/uploads/2015/05/chokowasugi_2_dvd_jk1.jpg'}, {'title': 'トレヴィの泉で二度目の恋を', 'url': 'http://www.albatros-film.com/wp-content/uploads/2015/05/d5b70b757f7b99fb2266a80e6ce4b54c1.jpg'}, {'title': 'メガ・シャークVSグレート・タイタン', 'url': 'http://www.albatros-film.com/wp-content/uploads/2015/05/a39fc648040d62dd04029933115354211.jpg'}, {'title': '最後まで行く', 'url': 'http://www.albatros-film.com/wp-content/uploads/2015/05/a0aa5630723cb565a508b4dafc6ff3571.jpg'}, {'title': 'エマニュエル・ベアール\\u3000赤と黒の誘惑', 'url': 'http://www.albatros-film.com/wp-content/uploads/2015/05/9380a287b715377820fcf56f7d779de71.jpg'}, {'title': 'グリム・アベンジャーズ', 'url': 'http://www.albatros-film.com/wp-content/uploads/2015/05/eb96c0fe343ce89496b4786ccc6ce1df1.jpg'}]\n"
     ]
    },
    {
     "name": "stderr",
     "output_type": "stream",
     "text": [
      "/Users/kazumatamaki/.pyenv/versions/anaconda3-2.3.0/lib/python3.4/site-packages/bs4/__init__.py:166: UserWarning: No parser was explicitly specified, so I'm using the best available HTML parser for this system (\"lxml\"). This usually isn't a problem, but if you run this code on another system, or in a different virtual environment, it may use a different parser and behave differently.\n",
      "\n",
      "To get rid of this warning, change this:\n",
      "\n",
      " BeautifulSoup([your markup])\n",
      "\n",
      "to this:\n",
      "\n",
      " BeautifulSoup([your markup], \"lxml\")\n",
      "\n",
      "  markup_type=markup_type))\n"
     ]
    }
   ],
   "source": [
    "albatrossUrl = 'http://www.albatros-film.com/archives/category/dvd/page/'\n",
    "page = 1\n",
    "\n",
    "try:\n",
    "    resource = getWebResource(albatrossUrl + str(page))\n",
    "    readResource = resource.read()\n",
    "    bsObj = BeautifulSoup(readResource)\n",
    "    tagMovieLi = bsObj.find('div', {'class': 'bg'}).ul.findAll('li')\n",
    "    movieList = getMovieTitleAndImg(tagMovieLi)\n",
    "except AttributeError as e:\n",
    "    print(e)\n",
    "\n",
    "print(movieList)"
   ]
  },
  {
   "cell_type": "code",
   "execution_count": null,
   "metadata": {},
   "outputs": [],
   "source": [
    ""
   ]
  }
 ],
 "metadata": {
  "kernelspec": {
   "display_name": "Python 3",
   "language": "python",
   "name": "python3"
  },
  "language_info": {
   "codemirror_mode": {
    "name": "ipython",
    "version": 3.0
   },
   "file_extension": ".py",
   "mimetype": "text/x-python",
   "name": "python",
   "nbconvert_exporter": "python",
   "pygments_lexer": "ipython3",
   "version": "3.4.4"
  }
 },
 "nbformat": 4,
 "nbformat_minor": 0
}